{
 "cells": [
  {
   "cell_type": "code",
   "execution_count": 187,
   "metadata": {
    "collapsed": false
   },
   "outputs": [],
   "source": [
    "import numpy as np\n",
    "import imp\n",
    "import cv2\n",
    "\n",
    "utils = imp.load_source('utils', '../code/utils.py')"
   ]
  },
  {
   "cell_type": "code",
   "execution_count": 188,
   "metadata": {
    "collapsed": false
   },
   "outputs": [],
   "source": [
    "video_path = '../data/video/SGT036_2016_07_25_pivothead_AVI.avi'\n",
    "bbox_path = '../data/video/annotations/SGT036_childface.txt'\n",
    "\n",
    "annot_path = '../output/video/output-SGT036_resnet50_lowlr_epoch_20.txt'\n",
    "output_string = 'SGT036_resnet50_lowlr_epoch_20_smoothed'"
   ]
  },
  {
   "cell_type": "code",
   "execution_count": 189,
   "metadata": {
    "collapsed": false
   },
   "outputs": [
    {
     "name": "stdout",
     "output_type": "stream",
     "text": [
      "[ 4.170376  0.790443 -0.178368 ..., -3.437805  0.396835 -1.276176]\n",
      "(8508,)\n",
      "(53464,)\n"
     ]
    }
   ],
   "source": [
    "fid = open(annot_path)\n",
    "bbox = open(bbox_path)\n",
    "list_frames = []\n",
    "list_y = []\n",
    "list_p = []\n",
    "list_r = []\n",
    "list_x_min = []\n",
    "list_x_max = []\n",
    "list_y_min = []\n",
    "list_y_max = []\n",
    "\n",
    "for line in fid:\n",
    "    line = line.strip('\\n')\n",
    "    line = line.split(' ')\n",
    "    list_frames.append(int(line[0]))\n",
    "    list_y.append(float(line[1]))\n",
    "    list_p.append(float(line[2]))\n",
    "    list_r.append(float(line[3]))\n",
    "    \n",
    "for line in bbox:\n",
    "    line = line.strip('\\n')\n",
    "    line = line.split(' ')\n",
    "    frame = int(line[0])\n",
    "    x_min, y_min, x_max, y_max = int(line[1]), int(line[2]), int(line[3]), int(line[4])\n",
    "    list_x_min.append(x_min)\n",
    "    list_x_max.append(x_max)\n",
    "    list_y_min.append(y_min)\n",
    "    list_y_max.append(y_max)\n",
    "    \n",
    "frames = np.array(list_frames)\n",
    "y = np.array(list_y)\n",
    "p = np.array(list_p)\n",
    "r = np.array(list_r)\n",
    "x_min_arr = np.array(list_x_min)\n",
    "x_max_arr = np.array(list_x_max)\n",
    "y_min_arr = np.array(list_y_min)\n",
    "y_max_arr = np.array(list_y_max)\n",
    "\n",
    "print y\n",
    "print y.shape\n",
    "print x_min_arr.shape"
   ]
  },
  {
   "cell_type": "code",
   "execution_count": 190,
   "metadata": {
    "collapsed": false
   },
   "outputs": [
    {
     "name": "stdout",
     "output_type": "stream",
     "text": [
      "Done\n"
     ]
    }
   ],
   "source": [
    "window_len = 5\n",
    "pad = window_len / 2\n",
    "window = 'flat'\n",
    "window_2 = 'flat'\n",
    "window_len_2 = 7\n",
    "pad_2 = window_len_2 / 2\n",
    "\n",
    "s = np.r_[y[window_len-1:0:-1],y,y[-2:-window_len-1:-1]]\n",
    "t = np.r_[p[window_len-1:0:-1],p,p[-2:-window_len-1:-1]]\n",
    "u = np.r_[r[window_len-1:0:-1],r,r[-2:-window_len-1:-1]]\n",
    "\n",
    "xa = np.r_[x_min_arr[window_len_2-1:0:-1],x_min_arr,x_min_arr[-2:-window_len_2-1:-1]]\n",
    "xb = np.r_[x_max_arr[window_len_2-1:0:-1],x_max_arr,x_max_arr[-2:-window_len_2-1:-1]]\n",
    "ya = np.r_[y_min_arr[window_len_2-1:0:-1],y_min_arr,y_min_arr[-2:-window_len_2-1:-1]]\n",
    "yb = np.r_[y_max_arr[window_len_2-1:0:-1],y_max_arr,y_max_arr[-2:-window_len_2-1:-1]]\n",
    "\n",
    "if window == 'flat':\n",
    "    w=np.ones(window_len, 'd')\n",
    "else:\n",
    "    w=eval('np.' + window + '(window_len)')\n",
    "    \n",
    "if window_2 == 'flat':\n",
    "    w_2=np.ones(window_len_2, 'd')\n",
    "else:\n",
    "    w_2=eval('np.' + window_2 + '(window_len_2)')    \n",
    "\n",
    "y = np.convolve(w / w.sum(), s, mode='valid')[pad:-pad]\n",
    "p = np.convolve(w / w.sum(), t, mode='valid')[pad:-pad]\n",
    "r = np.convolve(w / w.sum(), u, mode='valid')[pad:-pad]\n",
    "x_min_arr = np.convolve(w_2 / w_2.sum(), xa, mode='valid')[pad_2:-pad_2]\n",
    "x_max_arr = np.convolve(w_2 / w_2.sum(), xb, mode='valid')[pad_2:-pad_2]\n",
    "y_min_arr = np.convolve(w_2 / w_2.sum(), ya, mode='valid')[pad_2:-pad_2]\n",
    "y_max_arr = np.convolve(w_2 / w_2.sum(), yb, mode='valid')[pad_2:-pad_2]\n",
    "\n",
    "pose_dict = {}\n",
    "bbox_dict = {}\n",
    "for idx in xrange(len(frames)-1):\n",
    "    pose_dict[frames[idx], 'yaw'] = y[idx]\n",
    "    pose_dict[frames[idx], 'pitch'] = p[idx]\n",
    "    pose_dict[frames[idx], 'roll'] = r[idx]\n",
    "\n",
    "for idx in xrange(len(frames)-1):\n",
    "    bbox_dict[frames[idx], 'x_min'] = x_min_arr[idx]\n",
    "    bbox_dict[frames[idx], 'x_max'] = x_max_arr[idx]\n",
    "    bbox_dict[frames[idx], 'y_min'] = y_min_arr[idx]\n",
    "    bbox_dict[frames[idx], 'y_max'] = y_max_arr[idx]\n",
    "    \n",
    "print 'Done'"
   ]
  },
  {
   "cell_type": "code",
   "execution_count": 191,
   "metadata": {
    "collapsed": false
   },
   "outputs": [
    {
     "name": "stdout",
     "output_type": "stream",
     "text": [
      "Done\n"
     ]
    }
   ],
   "source": [
    "video = cv2.VideoCapture(video_path)\n",
    "width = int(video.get(cv2.CAP_PROP_FRAME_WIDTH))   # float\n",
    "height = int(video.get(cv2.CAP_PROP_FRAME_HEIGHT)) # float\n",
    "\n",
    "# Define the codec and create VideoWriter object\n",
    "fourcc = cv2.VideoWriter_fourcc(*'MJPG')\n",
    "out = cv2.VideoWriter('../output/video/output-%s.avi' % output_string, fourcc, 30.0, (width, height))\n",
    "\n",
    "txt_out = open('../output/video/output-%s.txt' % output_string, 'w')\n",
    "\n",
    "for frame_num in xrange(10000):\n",
    "    ret,frame = video.read()\n",
    "    if ret == False:\n",
    "        out.release()\n",
    "        video.release()\n",
    "        bbox_file.close()\n",
    "        txt_out.close()\n",
    "        sys.exit(0)\n",
    "        \n",
    "    if (frame_num, 'x_min') in bbox_dict.keys():\n",
    "        x_min = bbox_dict[frame_num, 'x_min']\n",
    "        x_max = bbox_dict[frame_num, 'x_max']\n",
    "        y_min = bbox_dict[frame_num, 'y_min']\n",
    "        y_max = bbox_dict[frame_num, 'y_max']\n",
    "\n",
    "        yaw_predicted = pose_dict[frame_num, 'yaw']\n",
    "        pitch_predicted = pose_dict[frame_num, 'pitch']\n",
    "        roll_predicted = pose_dict[frame_num, 'roll']\n",
    "\n",
    "        # Print new frame with cube and TODO: axis\n",
    "        txt_out.write(str(frame_num) + ' %f %f %f\\n' % (yaw_predicted, pitch_predicted, roll_predicted))\n",
    "        utils.plot_pose_cube(frame, yaw_predicted, pitch_predicted, roll_predicted, (x_min + x_max) / 2, (y_min + y_max) / 2, size = 200)\n",
    "        out.write(frame)\n",
    "    else:\n",
    "        out.write(frame)\n",
    "        \n",
    "print 'Done'"
   ]
  },
  {
   "cell_type": "code",
   "execution_count": null,
   "metadata": {
    "collapsed": true
   },
   "outputs": [],
   "source": []
  },
  {
   "cell_type": "code",
   "execution_count": null,
   "metadata": {
    "collapsed": true
   },
   "outputs": [],
   "source": []
  }
 ],
 "metadata": {
  "anaconda-cloud": {},
  "kernelspec": {
   "display_name": "Python [conda root]",
   "language": "python",
   "name": "conda-root-py"
  },
  "language_info": {
   "codemirror_mode": {
    "name": "ipython",
    "version": 2
   },
   "file_extension": ".py",
   "mimetype": "text/x-python",
   "name": "python",
   "nbconvert_exporter": "python",
   "pygments_lexer": "ipython2",
   "version": "2.7.12"
  }
 },
 "nbformat": 4,
 "nbformat_minor": 1
}
