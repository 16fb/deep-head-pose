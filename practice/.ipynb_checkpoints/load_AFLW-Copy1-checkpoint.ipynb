{
 "cells": [
  {
   "cell_type": "code",
   "execution_count": 6,
   "metadata": {
    "collapsed": true
   },
   "outputs": [],
   "source": [
    "%matplotlib inline\n",
    "import numpy as np\n",
    "import torch\n",
    "from torch.utils.serialization import load_lua\n",
    "import os\n",
    "import scipy.io as sio\n",
    "import cv2\n",
    "import math\n",
    "from matplotlib import pyplot as plt\n",
    "\n",
    "import sqlite3"
   ]
  },
  {
   "cell_type": "code",
   "execution_count": 7,
   "metadata": {
    "collapsed": true
   },
   "outputs": [],
   "source": [
    "#Change this paths according to your directories\n",
    "images_path = \"/Data/nruiz9/data/facial_landmarks/AFLW/aflw/data/flickr/\"\n",
    "storing_path = \"/Data/nruiz9/data/facial_landmarks/AFLW/aflw_cropped_loose/\""
   ]
  },
  {
   "cell_type": "code",
   "execution_count": 8,
   "metadata": {
    "collapsed": false
   },
   "outputs": [
    {
     "ename": "KeyboardInterrupt",
     "evalue": "",
     "output_type": "error",
     "traceback": [
      "\u001b[0;31m---------------------------------------------------------------------------\u001b[0m",
      "\u001b[0;31mKeyboardInterrupt\u001b[0m                         Traceback (most recent call last)",
      "\u001b[0;32m<ipython-input-8-1f2606c2a679>\u001b[0m in \u001b[0;36m<module>\u001b[0;34m()\u001b[0m\n\u001b[1;32m     34\u001b[0m     \u001b[0;32mif\u001b[0m\u001b[0;34m(\u001b[0m\u001b[0mos\u001b[0m\u001b[0;34m.\u001b[0m\u001b[0mpath\u001b[0m\u001b[0;34m.\u001b[0m\u001b[0misfile\u001b[0m\u001b[0;34m(\u001b[0m\u001b[0minput_path\u001b[0m\u001b[0;34m)\u001b[0m  \u001b[0;34m==\u001b[0m \u001b[0mTrue\u001b[0m\u001b[0;34m)\u001b[0m\u001b[0;34m:\u001b[0m\u001b[0;34m\u001b[0m\u001b[0m\n\u001b[1;32m     35\u001b[0m         \u001b[0;31m#image = cv2.imread(input_path, 0) #load in grayscale\u001b[0m\u001b[0;34m\u001b[0m\u001b[0;34m\u001b[0m\u001b[0m\n\u001b[0;32m---> 36\u001b[0;31m         \u001b[0mimage\u001b[0m \u001b[0;34m=\u001b[0m \u001b[0mcv2\u001b[0m\u001b[0;34m.\u001b[0m\u001b[0mimread\u001b[0m\u001b[0;34m(\u001b[0m\u001b[0minput_path\u001b[0m\u001b[0;34m)\u001b[0m\u001b[0;34m\u001b[0m\u001b[0m\n\u001b[0m\u001b[1;32m     37\u001b[0m \u001b[0;34m\u001b[0m\u001b[0m\n\u001b[1;32m     38\u001b[0m         \u001b[0;31m#Image dimensions\u001b[0m\u001b[0;34m\u001b[0m\u001b[0;34m\u001b[0m\u001b[0m\n",
      "\u001b[0;31mKeyboardInterrupt\u001b[0m: "
     ]
    }
   ],
   "source": [
    "#Image counter\n",
    "counter = 1\n",
    "\n",
    "#Open the sqlite database\n",
    "conn = sqlite3.connect('/Data/nruiz9/data/facial_landmarks/AFLW/aflw/data/aflw.sqlite')\n",
    "c = conn.cursor()\n",
    "\n",
    "#Creating the query string for retriving: roll, pitch, yaw and faces position\n",
    "#Change it according to what you want to retrieve\n",
    "select_string = \"faceimages.filepath, faces.face_id, facepose.roll, facepose.pitch, facepose.yaw, facerect.x, facerect.y, facerect.w, facerect.h\"\n",
    "from_string = \"faceimages, faces, facepose, facerect\"\n",
    "where_string = \"faces.face_id = facepose.face_id and faces.file_id = faceimages.file_id and faces.face_id = facerect.face_id\"\n",
    "query_string = \"SELECT \" + select_string + \" FROM \" + from_string + \" WHERE \" + where_string\n",
    "\n",
    "#It iterates through the rows returned from the query\n",
    "for row in c.execute(query_string):\n",
    "\n",
    "    #Using our specific query_string, the \"row\" variable will contain:\n",
    "    # row[0] = image path\n",
    "    # row[1] = face id\n",
    "    # row[2] = rollgma\n",
    "    # row[3] = pitch\n",
    "    # row[4] = yaw\n",
    "    # row[5] = face coord x\n",
    "    # row[6] = face coord y\n",
    "    # row[7] = face width\n",
    "    # row[8] = face heigh\n",
    "\n",
    "    #Creating the full path names for input and output\n",
    "    input_path = images_path + str(row[0])\n",
    "    output_path = storing_path + str(row[0])\n",
    "\n",
    "    #If the file exist then open it       \n",
    "    if(os.path.isfile(input_path)  == True):\n",
    "        #image = cv2.imread(input_path, 0) #load in grayscale\n",
    "        image = cv2.imread(input_path)\n",
    "\n",
    "        #Image dimensions\n",
    "        image_h, image_w, _ = image.shape\n",
    "        #Roll, pitch and yaw\n",
    "        roll   = row[2]\n",
    "        pitch  = row[3]\n",
    "        yaw    = row[4]\n",
    "        #Face rectangle coords\n",
    "        face_x = row[5]\n",
    "        face_y = row[6]\n",
    "        face_w = row[7]\n",
    "        face_h = row[8]\n",
    "\n",
    "        #Error correction\n",
    "        k = 0.35\n",
    "        x_min = face_x - face_w * k * 0.6\n",
    "        x_max = face_x + face_w + face_w * k * 0.6\n",
    "        y_min = face_y - face_h * k * 2\n",
    "        y_max = face_y + face_h + face_h * k * 0.6\n",
    "        \n",
    "        x_min = int(max(0, x_min))\n",
    "        x_max = int(min(image_w, x_max))\n",
    "        y_min = int(max(0, y_min))\n",
    "        y_max = int(min(image_h, y_max))\n",
    "        \n",
    "        #Crop the face from the image\n",
    "        image_cropped = np.copy(image[y_min:y_max, x_min:x_max])\n",
    "        #Uncomment the lines below if you want to rescale the image to a particular size\n",
    "        to_size = 240\n",
    "        image_cropped = cv2.resize(image_cropped, (to_size,to_size), interpolation = cv2.INTER_AREA)\n",
    "        #Uncomment the line below if you want to use adaptive histogram normalisation\n",
    "        #clahe = cv2.createCLAHE(clipLimit=2.0, tileGridSize=(5,5))\n",
    "        #image_normalised = clahe.apply(image_rescaled)\n",
    "        #Save the image\n",
    "        #change \"image_cropped\" with the last uncommented variable name above\n",
    "        cv2.imwrite(output_path, image_cropped)\n",
    "        \n",
    "        txt_path = os.path.splitext(output_path)[0]+'.txt'\n",
    "        directory = os.path.dirname(output_path)\n",
    "        if not os.path.exists(directory):\n",
    "            os.makedirs(directory)\n",
    "        fid = open(txt_path, 'wb')\n",
    "        fid.write(input_path + ' ' + str(yaw) + ' ' + str(pitch) + ' ' + str(roll) + ' ' + str(face_x) + ' ' + str(face_y) + ' ' + str(face_w) + ' ' + str(face_h) + '\\n')\n",
    "        fid.close()\n",
    "        #Increasing the counter\n",
    "        counter = counter + 1 \n",
    "\n",
    "    #if the file does not exits it return an exception\n",
    "    else:\n",
    "        raise ValueError('Error: I cannot find the file specified: ' + str(input_path))\n",
    "\n",
    "#Once finished the iteration it closes the database\n",
    "c.close()\n",
    "print 'Done'"
   ]
  },
  {
   "cell_type": "code",
   "execution_count": null,
   "metadata": {
    "collapsed": false
   },
   "outputs": [],
   "source": [
    "print 'test'"
   ]
  },
  {
   "cell_type": "code",
   "execution_count": null,
   "metadata": {
    "collapsed": true
   },
   "outputs": [],
   "source": []
  }
 ],
 "metadata": {
  "anaconda-cloud": {},
  "kernelspec": {
   "display_name": "Python [conda root]",
   "language": "python",
   "name": "conda-root-py"
  },
  "language_info": {
   "codemirror_mode": {
    "name": "ipython",
    "version": 2
   },
   "file_extension": ".py",
   "mimetype": "text/x-python",
   "name": "python",
   "nbconvert_exporter": "python",
   "pygments_lexer": "ipython2",
   "version": "2.7.12"
  }
 },
 "nbformat": 4,
 "nbformat_minor": 1
}
