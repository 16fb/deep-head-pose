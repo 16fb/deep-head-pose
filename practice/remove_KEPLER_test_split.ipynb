{
 "cells": [
  {
   "cell_type": "code",
   "execution_count": null,
   "metadata": {
    "collapsed": true
   },
   "outputs": [],
   "source": []
  },
  {
   "cell_type": "code",
   "execution_count": 27,
   "metadata": {
    "collapsed": true
   },
   "outputs": [],
   "source": [
    "AFLW2000 = '/Data/nruiz9/data/facial_landmarks/AFLW2000/'\n",
    "AFLW = '/Data/nruiz9/data/facial_landmarks/AFLW/aflw_cropped_loose/'"
   ]
  },
  {
   "cell_type": "code",
   "execution_count": 34,
   "metadata": {
    "collapsed": true
   },
   "outputs": [],
   "source": [
    "list_2000 = '/Data/nruiz9/data/facial_landmarks/AFLW/KEPLER_test_split.txt'\n",
    "list_normal = '/Data/nruiz9/data/facial_landmarks/AFLW/aflw_cropped_loose/filename_list_filtered.txt'"
   ]
  },
  {
   "cell_type": "code",
   "execution_count": 35,
   "metadata": {
    "collapsed": false
   },
   "outputs": [
    {
     "name": "stdout",
     "output_type": "stream",
     "text": [
      "961\n"
     ]
    }
   ],
   "source": [
    "fid = open(list_2000, 'r')\n",
    "dict_2000 = dict()\n",
    "for line in fid:\n",
    "    line = line.strip('\\n').split('/')\n",
    "    dict_2000[line[-1]] = 1\n",
    "print len(dict_2000)\n",
    "fid.close()"
   ]
  },
  {
   "cell_type": "code",
   "execution_count": 36,
   "metadata": {
    "collapsed": false
   },
   "outputs": [
    {
     "name": "stdout",
     "output_type": "stream",
     "text": [
      "943 19537\n"
     ]
    }
   ],
   "source": [
    "fid = open(list_normal, 'r')\n",
    "naked = list_normal.strip('.txt')\n",
    "train = open(naked + '_train.txt', 'wb')\n",
    "test = open(naked + '_test.txt', 'wb')\n",
    "test_dict = dict()\n",
    "train_dict = dict()\n",
    "for line in fid:\n",
    "    line = line.strip('\\n')\n",
    "    name = line.split('/')[-1]\n",
    "    if name+'.jpg' in dict_2000.keys():\n",
    "        test.write(line + '\\n')\n",
    "        test_dict[line] = 1\n",
    "    else:\n",
    "        train.write(line + '\\n')\n",
    "        train_dict[line] = 1\n",
    "\n",
    "print len(test_dict), len(train_dict)"
   ]
  },
  {
   "cell_type": "code",
   "execution_count": null,
   "metadata": {
    "collapsed": true
   },
   "outputs": [],
   "source": []
  }
 ],
 "metadata": {
  "anaconda-cloud": {},
  "kernelspec": {
   "display_name": "Python [conda root]",
   "language": "python",
   "name": "conda-root-py"
  },
  "language_info": {
   "codemirror_mode": {
    "name": "ipython",
    "version": 2
   },
   "file_extension": ".py",
   "mimetype": "text/x-python",
   "name": "python",
   "nbconvert_exporter": "python",
   "pygments_lexer": "ipython2",
   "version": "2.7.12"
  }
 },
 "nbformat": 4,
 "nbformat_minor": 1
}
