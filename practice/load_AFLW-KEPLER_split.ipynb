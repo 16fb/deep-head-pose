{
 "cells": [
  {
   "cell_type": "code",
   "execution_count": 30,
   "metadata": {
    "collapsed": true
   },
   "outputs": [],
   "source": [
    "%matplotlib inline\n",
    "import numpy as np\n",
    "import torch\n",
    "from torch.utils.serialization import load_lua\n",
    "import os\n",
    "import scipy.io as sio\n",
    "import cv2\n",
    "import math\n",
    "from matplotlib import pyplot as plt\n",
    "\n",
    "import sqlite3"
   ]
  },
  {
   "cell_type": "code",
   "execution_count": 31,
   "metadata": {
    "collapsed": true
   },
   "outputs": [],
   "source": [
    "#Change this paths according to your directories\n",
    "images_path = \"/Data/nruiz9/data/facial_landmarks/AFLW/aflw/data/flickr/\"\n",
    "storing_path = \"/Data/nruiz9/data/facial_landmarks/AFLW/aflw_cropped_loose_test/\""
   ]
  },
  {
   "cell_type": "code",
   "execution_count": 32,
   "metadata": {
    "collapsed": false
   },
   "outputs": [
    {
     "name": "stdout",
     "output_type": "stream",
     "text": [
      "(573, 1)\n",
      "(232, 1)\n",
      "(165, 1)\n",
      "3\n",
      "(970, 1)\n"
     ]
    }
   ],
   "source": [
    "#Load KEPLER split file\n",
    "test_set = sio.loadmat('/Data/nruiz9/data/facial_landmarks/AFLW/testset.mat')\n",
    "print test_set['test'][0][0][0].shape\n",
    "print test_set['test'][0][0][1].shape\n",
    "print test_set['test'][0][0][2].shape\n",
    "print len(test_set['test'][0][0])\n",
    "\n",
    "id_test_set = np.concatenate([test_set['test'][0][0][0], test_set['test'][0][0][1], test_set['test'][0][0][2]])\n",
    "print id_test_set.shape\n",
    "\n",
    "# I will just use every single one for now. If results are not good I'll sample equally."
   ]
  },
  {
   "cell_type": "code",
   "execution_count": 38,
   "metadata": {
    "collapsed": false
   },
   "outputs": [
    {
     "name": "stdout",
     "output_type": "stream",
     "text": [
      "970\n",
      "Done\n"
     ]
    }
   ],
   "source": [
    "#Image counter\n",
    "counter = 0\n",
    "\n",
    "#Open the sqlite database\n",
    "conn = sqlite3.connect('/Data/nruiz9/data/facial_landmarks/AFLW/aflw/data/aflw.sqlite')\n",
    "c = conn.cursor()\n",
    "\n",
    "#Creating the query string for retriving: roll, pitch, yaw and faces position\n",
    "#Change it according to what you want to retrieve\n",
    "select_string = \"faceimages.filepath, faces.face_id, facepose.roll, facepose.pitch, facepose.yaw, facerect.x, facerect.y, facerect.w, facerect.h\"\n",
    "from_string = \"faceimages, faces, facepose, facerect\"\n",
    "where_string = \"faces.face_id = facepose.face_id and faces.file_id = faceimages.file_id and faces.face_id = facerect.face_id\"\n",
    "query_string = \"SELECT \" + select_string + \" FROM \" + from_string + \" WHERE \" + where_string\n",
    "\n",
    "test_file_txt = '/Data/nruiz9/data/facial_landmarks/AFLW/KEPLER_test_split.txt'\n",
    "out_txt = open(test_file_txt, 'w')\n",
    "#It iterates through the rows returned from the query\n",
    "for row in c.execute(query_string):\n",
    "\n",
    "    #Using our specific query_string, the \"row\" variable will contain:\n",
    "    # row[0] = image path\n",
    "    # row[1] = face id\n",
    "    # row[2] = rollgma\n",
    "    # row[3] = pitch\n",
    "    # row[4] = yaw\n",
    "    # row[5] = face coord x\n",
    "    # row[6] = face coord y\n",
    "    # row[7] = face width\n",
    "    # row[8] = face heigh\n",
    "    if row[1] in id_test_set:\n",
    "        #Creating the full path names for input and output\n",
    "        input_path = images_path + str(row[0])\n",
    "        output_path = storing_path + str(row[0])\n",
    "\n",
    "        #If the file exist then open it       \n",
    "        if(os.path.isfile(input_path)  == True):\n",
    "\n",
    "            out_txt.write(str(row[0]) + '.jpg\\n')\n",
    "            #Increasing the counter\n",
    "            counter = counter + 1 \n",
    "\n",
    "        #if the file does not exits it return an exception\n",
    "        else:\n",
    "            raise ValueError('Error: I cannot find the file specified: ' + str(input_path))\n",
    "\n",
    "#Once finished the iteration it closes the database\n",
    "print counter\n",
    "out_txt.close()\n",
    "c.close()\n",
    "print 'Done'"
   ]
  },
  {
   "cell_type": "code",
   "execution_count": 4,
   "metadata": {
    "collapsed": false
   },
   "outputs": [
    {
     "name": "stdout",
     "output_type": "stream",
     "text": [
      "test\n"
     ]
    }
   ],
   "source": [
    "print 'test'"
   ]
  },
  {
   "cell_type": "code",
   "execution_count": null,
   "metadata": {
    "collapsed": true
   },
   "outputs": [],
   "source": []
  }
 ],
 "metadata": {
  "anaconda-cloud": {},
  "kernelspec": {
   "display_name": "Python [conda root]",
   "language": "python",
   "name": "conda-root-py"
  },
  "language_info": {
   "codemirror_mode": {
    "name": "ipython",
    "version": 2
   },
   "file_extension": ".py",
   "mimetype": "text/x-python",
   "name": "python",
   "nbconvert_exporter": "python",
   "pygments_lexer": "ipython2",
   "version": "2.7.12"
  }
 },
 "nbformat": 4,
 "nbformat_minor": 1
}
