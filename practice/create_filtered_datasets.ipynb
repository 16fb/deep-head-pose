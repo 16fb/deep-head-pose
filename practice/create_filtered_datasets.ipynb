{
 "cells": [
  {
   "cell_type": "code",
   "execution_count": 1,
   "metadata": {
    "collapsed": true
   },
   "outputs": [],
   "source": [
    "%matplotlib inline\n",
    "import numpy as np\n",
    "import torch\n",
    "from torch.utils.serialization import load_lua\n",
    "import os\n",
    "import scipy.io as sio\n",
    "import cv2\n",
    "import math\n",
    "from matplotlib import pyplot as plt"
   ]
  },
  {
   "cell_type": "code",
   "execution_count": null,
   "metadata": {
    "collapsed": true
   },
   "outputs": [],
   "source": [
    "TRAIN_DATA_DIR = '/Data/nruiz9/data/facial_landmarks/300W_LP/'\n",
    "AFW = os.path.join(TRAIN_DATA_DIR, 'AFW')"
   ]
  },
  {
   "cell_type": "code",
   "execution_count": null,
   "metadata": {
    "collapsed": true
   },
   "outputs": [],
   "source": [
    "# Create filename.txt without poses more than -100, 100 degrees.\n",
    "with open(os.path.join(TRAIN_DATA_DIR, 'filename_list.txt')) as f:\n",
    "    with open(os.path.join(TRAIN_DATA_DIR, 'filename_list_filtered.txt'), 'wb') as wb:\n",
    "        counter = 0\n",
    "        for line in f:\n",
    "            original_line = line\n",
    "            line = line.strip('\\n')\n",
    "            mat_path = os.path.join(TRAIN_DATA_DIR, line + '.mat')\n",
    "            mat = sio.loadmat(mat_path)\n",
    "            pitch, yaw, roll = mat['Pose_Para'][0][0:3] * 180 / np.pi\n",
    "            if abs(pitch) > 99 or abs(yaw) > 99 or abs(roll) > 99:\n",
    "                counter += 1\n",
    "                continue\n",
    "            wb.write(original_line)\n",
    "        print counter"
   ]
  },
  {
   "cell_type": "code",
   "execution_count": null,
   "metadata": {
    "collapsed": true
   },
   "outputs": [],
   "source": [
    "TRAIN_DATA_DIR = '/Data/nruiz9/data/facial_landmarks'\n",
    "AFLW = os.path.join(TRAIN_DATA_DIR, 'AFLW2000')"
   ]
  },
  {
   "cell_type": "code",
   "execution_count": null,
   "metadata": {
    "collapsed": true
   },
   "outputs": [],
   "source": [
    "# Create filename.txt without poses more than -100, 100 degrees.\n",
    "with open(os.path.join(AFLW, 'list_filenames.txt')) as f:\n",
    "    with open(os.path.join(AFLW, 'filename_list_filtered.txt'), 'wb') as wb:\n",
    "        counter = 0\n",
    "        for line in f:\n",
    "            original_line = line\n",
    "            line = line.strip('\\n')\n",
    "            mat_path = os.path.join(AFLW, line + '.mat')\n",
    "            mat = sio.loadmat(mat_path)\n",
    "            pitch, yaw, roll = mat['Pose_Para'][0][0:3] * 180 / np.pi\n",
    "            if abs(pitch) > 99 or abs(yaw) > 99 or abs(roll) > 99:\n",
    "                counter += 1\n",
    "                continue\n",
    "            wb.write(original_line)\n",
    "            \n",
    "        print counter"
   ]
  },
  {
   "cell_type": "code",
   "execution_count": 4,
   "metadata": {
    "collapsed": true
   },
   "outputs": [],
   "source": [
    "AFLW = '/Data/nruiz9/data/facial_landmarks/AFLW/aflw_cropped_loose/'\n",
    "filenames = '/Data/nruiz9/data/facial_landmarks/AFLW/aflw_cropped_loose/filename_list.txt'"
   ]
  },
  {
   "cell_type": "code",
   "execution_count": 5,
   "metadata": {
    "collapsed": false
   },
   "outputs": [
    {
     "name": "stdout",
     "output_type": "stream",
     "text": [
      "243\n"
     ]
    }
   ],
   "source": [
    "fid = open(filenames, 'r')\n",
    "out = open(os.path.join(AFLW, 'filename_list_filtered.txt'), 'wb')\n",
    "counter = 0\n",
    "for line in fid:\n",
    "    original_line = line\n",
    "    line = line.strip('\\n')\n",
    "    if not os.path.exists(os.path.join(AFLW, line + '.txt')):\n",
    "        counter += 1\n",
    "        continue\n",
    "    annot_file = open(os.path.join(AFLW, line + '.txt'))\n",
    "    annot = annot_file.readline().strip('\\n').split(' ')\n",
    "    yaw = float(annot[1]) * 180 / np.pi\n",
    "    pitch = float(annot[2]) * 180 / np.pi\n",
    "    roll = float(annot[3]) * 180 / np.pi\n",
    "    if abs(pitch) > 99 or abs(yaw) > 99 or abs(roll) > 99:\n",
    "        counter += 1\n",
    "        continue\n",
    "    out.write(original_line)\n",
    "\n",
    "print counter    "
   ]
  },
  {
   "cell_type": "code",
   "execution_count": null,
   "metadata": {
    "collapsed": true
   },
   "outputs": [],
   "source": []
  }
 ],
 "metadata": {
  "anaconda-cloud": {},
  "kernelspec": {
   "display_name": "Python [conda root]",
   "language": "python",
   "name": "conda-root-py"
  },
  "language_info": {
   "codemirror_mode": {
    "name": "ipython",
    "version": 2
   },
   "file_extension": ".py",
   "mimetype": "text/x-python",
   "name": "python",
   "nbconvert_exporter": "python",
   "pygments_lexer": "ipython2",
   "version": "2.7.12"
  }
 },
 "nbformat": 4,
 "nbformat_minor": 1
}
