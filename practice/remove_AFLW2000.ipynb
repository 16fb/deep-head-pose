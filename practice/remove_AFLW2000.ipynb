{
 "cells": [
  {
   "cell_type": "code",
   "execution_count": null,
   "metadata": {
    "collapsed": true
   },
   "outputs": [],
   "source": []
  },
  {
   "cell_type": "code",
   "execution_count": 2,
   "metadata": {
    "collapsed": true
   },
   "outputs": [],
   "source": [
    "AFLW2000 = '/Data/nruiz9/data/facial_landmarks/AFLW2000/'\n",
    "AFLW = '/Data/nruiz9/data/facial_landmarks/AFLW/aflw_cropped/'"
   ]
  },
  {
   "cell_type": "code",
   "execution_count": 3,
   "metadata": {
    "collapsed": true
   },
   "outputs": [],
   "source": [
    "list_2000 = '/Data/nruiz9/data/facial_landmarks/AFLW2000/filename_list_filtered.txt'\n",
    "list_normal = '/Data/nruiz9/data/facial_landmarks/AFLW/aflw_cropped/filename_list.txt'"
   ]
  },
  {
   "cell_type": "code",
   "execution_count": 5,
   "metadata": {
    "collapsed": false
   },
   "outputs": [
    {
     "name": "stdout",
     "output_type": "stream",
     "text": [
      "1969\n"
     ]
    }
   ],
   "source": [
    "fid = open(list_2000, 'r')\n",
    "dict_2000 = dict()\n",
    "for line in fid:\n",
    "    line = line.strip('\\n').split('/')\n",
    "    dict_2000[line[-1]] = 1\n",
    "print len(dict_2000)\n",
    "fid.close()"
   ]
  },
  {
   "cell_type": "code",
   "execution_count": 6,
   "metadata": {
    "collapsed": false
   },
   "outputs": [
    {
     "name": "stdout",
     "output_type": "stream",
     "text": [
      "1966 19109\n"
     ]
    }
   ],
   "source": [
    "fid = open(list_normal, 'r')\n",
    "naked = list_normal.strip('.txt')\n",
    "train = open(naked + '_train.txt', 'wb')\n",
    "test = open(naked + '_test.txt', 'wb')\n",
    "test_dict = dict()\n",
    "train_dict = dict()\n",
    "for line in fid:\n",
    "    line = line.strip('\\n')\n",
    "    name = line.split('/')[-1]\n",
    "    if name in dict_2000.keys():\n",
    "        test.write(line + '\\n')\n",
    "        test_dict[line] = 1\n",
    "    else:\n",
    "        train.write(line + '\\n')\n",
    "        train_dict[line] = 1\n",
    "\n",
    "print len(test_dict), len(train_dict)"
   ]
  },
  {
   "cell_type": "code",
   "execution_count": null,
   "metadata": {
    "collapsed": true
   },
   "outputs": [],
   "source": []
  }
 ],
 "metadata": {
  "anaconda-cloud": {},
  "kernelspec": {
   "display_name": "Python [conda root]",
   "language": "python",
   "name": "conda-root-py"
  },
  "language_info": {
   "codemirror_mode": {
    "name": "ipython",
    "version": 2
   },
   "file_extension": ".py",
   "mimetype": "text/x-python",
   "name": "python",
   "nbconvert_exporter": "python",
   "pygments_lexer": "ipython2",
   "version": "2.7.12"
  }
 },
 "nbformat": 4,
 "nbformat_minor": 1
}
